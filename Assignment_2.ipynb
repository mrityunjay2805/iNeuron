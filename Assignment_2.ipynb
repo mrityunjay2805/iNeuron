{
 "cells": [
  {
   "cell_type": "markdown",
   "id": "24a132ef",
   "metadata": {},
   "source": [
    "1.What are the two values of the Boolean data type? How do you write them?\n",
    "\n",
    "Ans:\n",
    "The boolean value can be of two types only i.e. either True or False."
   ]
  },
  {
   "cell_type": "markdown",
   "id": "003bd3a6",
   "metadata": {},
   "source": [
    "2. What are the three different types of Boolean operators?\n",
    "\n",
    "Ans: Boolean operators are :: AND, Or, and NOT."
   ]
  },
  {
   "cell_type": "code",
   "execution_count": null,
   "id": "ee4be587",
   "metadata": {},
   "outputs": [],
   "source": [
    "3. Make a list of each Boolean operator's truth tables (i.e. every possible combination of Boolean values for the operator and what it evaluate ).\n",
    "\n",
    " A\t      B\t    A and B\n",
    "True\tTrue\tTrue\n",
    "True\tFalse\tFalse\n",
    "False\tTrue\tFalse\n",
    "False\tFalse\tFalse\n",
    "\n",
    "\n",
    "A\t     B\t   A or B\n",
    "True\tTrue\tTrue\n",
    "True\tFalse\tTrue\n",
    "False\tTrue\tTrue\n",
    "False\tFalse\tFalse\n",
    "\n",
    "\n",
    "A\t    Not A\n",
    "True\tFalse\n",
    "False\tTrue\n"
   ]
  },
  {
   "cell_type": "raw",
   "id": "f53dad87",
   "metadata": {},
   "source": [
    "\n",
    "4. What are the values of the following expressions?\n",
    "(5 > 4) and (3 == 5) >> False\n",
    "not (5 > 4) >> False\n",
    "(5 > 4) or (3 == 5) >> True\n",
    "not ((5 > 4) or (3 == 5)) >> False\n",
    "(True and True) and (True == False) >> False\n",
    "(not False) or (not True) >> True\n",
    "\n",
    "\n"
   ]
  },
  {
   "cell_type": "markdown",
   "id": "04716674",
   "metadata": {},
   "source": [
    "5. What are the six comparison operators?\n",
    "\n",
    "Less than ( < )\n",
    "Less than or equal to (<=)\n",
    "Greater than (>)\n",
    "Greater than or equal to (>=)\n",
    "Equal to ( == )\n",
    "Not equal to ( != )"
   ]
  },
  {
   "cell_type": "raw",
   "id": "dc593c58",
   "metadata": {},
   "source": [
    "6. How do you tell the difference between the equal to and assignment operators?Describe a condition and when you would use one.\n",
    "\n",
    "The “=” is an assignment operator used to assign the value on the right to the variable on the left. \n",
    "\n",
    "For example:\n",
    "a = 10;\n",
    "b = 20;\n",
    "\n",
    "The ‘==’ operator checks whether the two given operands are equal or not. If so, it returns true. Otherwise it returns false. \n",
    "\n",
    "For example:\n",
    "\n",
    "5==5\n",
    "\n",
    "This will return true."
   ]
  },
  {
   "cell_type": "code",
   "execution_count": null,
   "id": "55e08836",
   "metadata": {},
   "outputs": [],
   "source": [
    "7. Identify the three blocks in this code:\n",
    "    \n",
    "spam = 0\n",
    "if spam == 10:\n",
    "print('eggs')\n",
    "if spam > 5:\n",
    "print('bacon')\n",
    "else:\n",
    "print('ham')\n",
    "print('spam')\n",
    "print('spam')\n",
    "\n",
    "------------------------------------------------------------\n",
    "1 BLOCK\n",
    "spam = 0\n",
    "##---------------------------------------------------------------\n",
    "2 BLOCK\n",
    "if spam == 10:\n",
    "print('eggs')\n",
    "##-----------------------------------------------------------------\n",
    "3 BLOCK\n",
    "if spam > 5:\n",
    "print('bacon')\n",
    "else:\n",
    "print('ham')\n",
    "print('spam')\n",
    "print('spam')\n",
    "##----------------------------------------------------------------------\n"
   ]
  },
  {
   "cell_type": "code",
   "execution_count": null,
   "id": "c4ebf3ce",
   "metadata": {},
   "outputs": [],
   "source": [
    "8. Write code that prints Hello if 1 is stored in spam, prints Howdy if 2 is stored in spam, and prints Greetings! if anything else is stored in spam.\n",
    "\n",
    "if spam == 1:\n",
    "    prints(\"Hello\")\n",
    "elif spam == 2:\n",
    "    print(\"Howdy\")\n",
    "else:\n",
    "    print(\"Greetings!\")\n",
    "     \n"
   ]
  },
  {
   "cell_type": "markdown",
   "id": "6e46267b",
   "metadata": {},
   "source": [
    "9  If your programme is stuck in an endless loop, what keys you’ll press?\n",
    "Ans >> CTRL + C\n"
   ]
  },
  {
   "cell_type": "code",
   "execution_count": null,
   "id": "50239c3b",
   "metadata": {},
   "outputs": [],
   "source": [
    "10. How can you tell the difference between break and continue?\n",
    "\n",
    "The Break statement is used to exit from the loop constructs.\n",
    "When a break statement is encountered then the control is exited from the loop construct immediately.\n",
    "Leftover iterations are not executed after the break statement.\n",
    "\n",
    "The continue statement is not used to exit from the loop constructs.\n",
    "When the continue statement is encountered then the control automatically passed from the beginning of the loop statement.\n",
    "Leftover iterations can be executed even if the continue keyword appears in a loop.\n",
    "\n",
    "### use of break\n",
    "for i in range(10):\n",
    "    if(i==7):\n",
    "        break\n",
    "    print(i)\n",
    "    \n",
    "print('Breaked')\n",
    "#use of  continue\n",
    "for i in range(10):\n",
    "    if(i==7):\n",
    "        continue\n",
    "    print(i)\n"
   ]
  },
  {
   "cell_type": "markdown",
   "id": "b5ff1e42",
   "metadata": {},
   "source": [
    "11. In a for loop, what is the difference between range(10), range(0, 10), and range(0, 10, 1)?\n",
    "\n",
    "Ans : They are same as Range(Start, stop, step), in all the three cases start =0 even if its not mentioned in range(10) then by default its 0, Stop is 10 and by default step size is 1\n",
    "\n",
    "The output is same for all the three cases."
   ]
  },
  {
   "cell_type": "code",
   "execution_count": null,
   "id": "942f6d28",
   "metadata": {},
   "outputs": [],
   "source": [
    "12. Write a short program that prints the numbers 1 to 10 using a for loop. Then write an equivalent program that prints the numbers 1 to 10 using a while loop.\n",
    "\n",
    "Ans : \n",
    "Using for loop\n",
    "\n",
    "for i in range(0,11):\n",
    "    print(i)\n",
    "    \n",
    "Using while loop\n",
    "\n",
    "i=0\n",
    "while i < 11:\n",
    "    print(i)\n",
    "    i = i +1\n",
    "    \n"
   ]
  },
  {
   "cell_type": "markdown",
   "id": "9d24ee17",
   "metadata": {},
   "source": [
    "13. If you had a function named bacon() inside a module named spam, how would you call it after importing spam?\n",
    "\n",
    "This function can be called with spam.bacon()."
   ]
  },
  {
   "cell_type": "code",
   "execution_count": null,
   "id": "83cb831b",
   "metadata": {},
   "outputs": [],
   "source": []
  }
 ],
 "metadata": {
  "kernelspec": {
   "display_name": "Python 3 (ipykernel)",
   "language": "python",
   "name": "python3"
  },
  "language_info": {
   "codemirror_mode": {
    "name": "ipython",
    "version": 3
   },
   "file_extension": ".py",
   "mimetype": "text/x-python",
   "name": "python",
   "nbconvert_exporter": "python",
   "pygments_lexer": "ipython3",
   "version": "3.9.13"
  }
 },
 "nbformat": 4,
 "nbformat_minor": 5
}
