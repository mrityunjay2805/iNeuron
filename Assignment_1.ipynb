{
 "cells": [
  {
   "cell_type": "raw",
   "id": "dea7e7dd",
   "metadata": {},
   "source": [
    "1. In the below elements which of them are values or an expression? eg:- values can be integer or string and expressions will be mathematical operators.\n",
    "* \n",
    "'hello'   Value\n",
    "-87.8    Value\n",
    "-      Operator\n",
    "/      Operator\n",
    "+\t     Operator\n",
    "6    Value\n"
   ]
  },
  {
   "cell_type": "raw",
   "id": "0ef74304",
   "metadata": {},
   "source": [
    "\n",
    "2. What is the difference between string and variable?\n",
    "Ans:\n",
    "Variables are symbols that are used to store data in a program. We think of them as an empty box that will be filled with some data or value. Strings are data or information that we store in variable. Declaring strings as variable may help us to increase the readability/ understanding of code.\n"
   ]
  },
  {
   "cell_type": "raw",
   "id": "c7f02f7d",
   "metadata": {},
   "source": [
    "\n",
    "3. Describe three different data types.\n",
    "Ans:\n",
    "Text type  String\n",
    "Numeric type  Integer, Float, Complex\n",
    "Sequence Type  List, tuple, range\n",
    "Mapping type  Dict\n"
   ]
  },
  {
   "cell_type": "raw",
   "id": "1de7feb4",
   "metadata": {},
   "source": [
    "4. What is an expression made up of? What do all expressions do?\n",
    "Ans:\n",
    "An expression is a combination of operators and operands that is interpreted to produce some other value. Operator indicates the action/operation to perform and an operand can be constant/variable.\n"
   ]
  },
  {
   "cell_type": "raw",
   "id": "51e9e186",
   "metadata": {},
   "source": [
    "5. This assignment statements, like spam = 10. What is the difference between an expression and a statement?\n",
    "Ans: \n",
    "A statement in python is used for creating variables or for displaying values. The expression in python produces some value or result after being interpreted by interpreter. \n"
   ]
  },
  {
   "cell_type": "raw",
   "id": "36f9af6a",
   "metadata": {},
   "source": [
    "6. After running the following code, what does the variable bacon contain?\n",
    "bacon = 22\n",
    "bacon + 1\n",
    "\n",
    "Ans: Bacon will be equal to 22 only because in the second line we are adding 1 to the variable ‘bacon’ but not storing/allocating that data to the variable ‘bacon’.\n"
   ]
  },
  {
   "cell_type": "raw",
   "id": "050a38d1",
   "metadata": {},
   "source": [
    "7. What should the values of the following two terms be?\n",
    "'spam' + 'spamspam'\n",
    "'spam' *3\n",
    "Ans : \n",
    "'spam' + 'spamspam' = 'spamspamspam'\n",
    "'spam' * 3 = 'spamspamspam'\n"
   ]
  },
  {
   "cell_type": "raw",
   "id": "731071f6",
   "metadata": {},
   "source": [
    "8. Why is eggs a valid variable name while 100 is invalid?\n",
    "Ans:\n",
    "Eggs is a variable name because names in python can consist of (a-z) uppercase and lowercase, digits(0-9) and underscore character.\n",
    "100 is not a valid variable name because python does not allow only digits to be the variable name. Variable name can contain digit but the first character of a variable name cannot be digit.\n"
   ]
  },
  {
   "cell_type": "raw",
   "id": "4c4cd8f0",
   "metadata": {},
   "source": [
    "9. What three functions can be used to get the integer, floating-point number, or string version of a value?\n",
    "Ans:\n",
    "int()\n",
    "float()\n",
    "str()\n"
   ]
  },
  {
   "cell_type": "raw",
   "id": "83a2b6a3",
   "metadata": {},
   "source": [
    "10. Why does this expression cause an error? How can you fix it?\n",
    "'I have eaten ' + 99 + ' burritos.'\n",
    "Ans:\n",
    "This expression will lead to TypeError as here we are trying to concatenate string with the int type data i.e 99.\n",
    "We can fix it by converting 99 into str by adding Quotation marks  ‘99’\n",
    "'I have eaten ' + '99' + ' burritos.' \n",
    " 'I have eaten 99 burritos.'\n"
   ]
  },
  {
   "cell_type": "code",
   "execution_count": null,
   "id": "85417254",
   "metadata": {},
   "outputs": [],
   "source": []
  }
 ],
 "metadata": {
  "kernelspec": {
   "display_name": "Python 3 (ipykernel)",
   "language": "python",
   "name": "python3"
  },
  "language_info": {
   "codemirror_mode": {
    "name": "ipython",
    "version": 3
   },
   "file_extension": ".py",
   "mimetype": "text/x-python",
   "name": "python",
   "nbconvert_exporter": "python",
   "pygments_lexer": "ipython3",
   "version": "3.9.13"
  }
 },
 "nbformat": 4,
 "nbformat_minor": 5
}
